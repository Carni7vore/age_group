{
 "cells": [
  {
   "cell_type": "code",
   "execution_count": 1,
   "metadata": {
    "collapsed": true
   },
   "outputs": [],
   "source": [
    "%reset\n"
   ]
  },
  {
   "cell_type": "code",
   "execution_count": 3,
   "metadata": {},
   "outputs": [
    {
     "name": "stderr",
     "output_type": "stream",
     "text": [
      "Using TensorFlow backend.\n"
     ]
    }
   ],
   "source": [
    "import numpy as np\n",
    "import scipy.io as sio\n",
    "import matplotlib.pyplot as plt\n",
    "from sklearn.decomposition import PCA\n",
    "from sklearn.neighbors import KNeighborsClassifier\n",
    "import cv2\n",
    "from keras.models import Sequential\n",
    "from keras.layers.core import Flatten, Dense, Dropout, Activation\n",
    "from keras.layers.convolutional import Convolution2D, MaxPooling2D, ZeroPadding2D\n",
    "from keras.layers import Embedding, TimeDistributed, RepeatVector, LSTM\n",
    "from keras.utils import to_categorical"
   ]
  },
  {
   "cell_type": "code",
   "execution_count": 4,
   "metadata": {},
   "outputs": [],
   "source": [
    "age1= sio.loadmat('./age.mat')\n",
    "path1=sio.loadmat('./path.mat')\n",
    "data_age= age1['data_age']\n",
    "data_path= path1['data_path']"
   ]
  },
  {
   "cell_type": "code",
   "execution_count": 5,
   "metadata": {},
   "outputs": [],
   "source": [
    "def vgg_16(weights_path=None):\n",
    "    model = Sequential()\n",
    "    model.add(ZeroPadding2D((1,1),input_shape=(224,224,3)))\n",
    "    model.add(Convolution2D(64, 3, 3, activation='relu'))\n",
    "    model.add(ZeroPadding2D((1,1)))\n",
    "    model.add(Convolution2D(64, 3, 3, activation='relu'))\n",
    "    model.add(MaxPooling2D((2,2), strides=(2,2)))\n",
    "\n",
    "    model.add(ZeroPadding2D((1,1)))\n",
    "    model.add(Convolution2D(128, 3, 3, activation='relu'))\n",
    "    model.add(ZeroPadding2D((1,1)))\n",
    "    model.add(Convolution2D(128, 3, 3, activation='relu'))\n",
    "    model.add(MaxPooling2D((2,2), strides=(2,2)))\n",
    "\n",
    "    model.add(ZeroPadding2D((1,1)))\n",
    "    model.add(Convolution2D(256, 3, 3, activation='relu'))\n",
    "    model.add(ZeroPadding2D((1,1)))\n",
    "    model.add(Convolution2D(256, 3, 3, activation='relu'))\n",
    "    model.add(ZeroPadding2D((1,1)))\n",
    "    model.add(Convolution2D(256, 3, 3, activation='relu'))\n",
    "    model.add(MaxPooling2D((2,2), strides=(2,2)))\n",
    "\n",
    "    model.add(ZeroPadding2D((1,1)))\n",
    "    model.add(Convolution2D(512, 3, 3, activation='relu'))\n",
    "    model.add(ZeroPadding2D((1,1)))\n",
    "    model.add(Convolution2D(512, 3, 3, activation='relu'))\n",
    "    model.add(ZeroPadding2D((1,1)))\n",
    "    model.add(Convolution2D(512, 3, 3, activation='relu'))\n",
    "    model.add(MaxPooling2D((2,2), strides=(2,2)))\n",
    "\n",
    "    model.add(ZeroPadding2D((1,1)))\n",
    "    model.add(Convolution2D(512, 3, 3, activation='relu'))\n",
    "    model.add(ZeroPadding2D((1,1)))\n",
    "    model.add(Convolution2D(512, 3, 3, activation='relu'))\n",
    "    model.add(ZeroPadding2D((1,1)))\n",
    "    model.add(Convolution2D(512, 3, 3, activation='relu'))\n",
    "    model.add(MaxPooling2D((2,2), strides=(2,2)))\n",
    "\n",
    "    model.add(Flatten())\n",
    "    model.add(Dense(4096, activation='relu'))\n",
    "    model.add(Dropout(0.5))\n",
    "    model.add(Dense(4096, activation='relu'))\n",
    "    model.add(Dropout(0.5))\n",
    "    model.add(Dense(10, activation='softmax'))\n",
    "\n",
    "    if weights_path:\n",
    "        model.load_weights(weights_path)\n",
    "\n",
    "    return model"
   ]
  },
  {
   "cell_type": "code",
   "execution_count": 6,
   "metadata": {
    "collapsed": true
   },
   "outputs": [
    {
     "name": "stderr",
     "output_type": "stream",
     "text": [
      "/home/carni7vore/anaconda3/envs/Pyhton3_7/lib/python3.6/site-packages/ipykernel_launcher.py:4: UserWarning: Update your `Conv2D` call to the Keras 2 API: `Conv2D(64, (3, 3), activation=\"relu\")`\n  after removing the cwd from sys.path.\n/home/carni7vore/anaconda3/envs/Pyhton3_7/lib/python3.6/site-packages/ipykernel_launcher.py:6: UserWarning: Update your `Conv2D` call to the Keras 2 API: `Conv2D(64, (3, 3), activation=\"relu\")`\n  \n/home/carni7vore/anaconda3/envs/Pyhton3_7/lib/python3.6/site-packages/ipykernel_launcher.py:10: UserWarning: Update your `Conv2D` call to the Keras 2 API: `Conv2D(128, (3, 3), activation=\"relu\")`\n  # Remove the CWD from sys.path while we load stuff.\n/home/carni7vore/anaconda3/envs/Pyhton3_7/lib/python3.6/site-packages/ipykernel_launcher.py:12: UserWarning: Update your `Conv2D` call to the Keras 2 API: `Conv2D(128, (3, 3), activation=\"relu\")`\n  if sys.path[0] == '':\n/home/carni7vore/anaconda3/envs/Pyhton3_7/lib/python3.6/site-packages/ipykernel_launcher.py:16: UserWarning: Update your `Conv2D` call to the Keras 2 API: `Conv2D(256, (3, 3), activation=\"relu\")`\n  app.launch_new_instance()\n/home/carni7vore/anaconda3/envs/Pyhton3_7/lib/python3.6/site-packages/ipykernel_launcher.py:18: UserWarning: Update your `Conv2D` call to the Keras 2 API: `Conv2D(256, (3, 3), activation=\"relu\")`\n/home/carni7vore/anaconda3/envs/Pyhton3_7/lib/python3.6/site-packages/ipykernel_launcher.py:20: UserWarning: Update your `Conv2D` call to the Keras 2 API: `Conv2D(256, (3, 3), activation=\"relu\")`\n/home/carni7vore/anaconda3/envs/Pyhton3_7/lib/python3.6/site-packages/ipykernel_launcher.py:24: UserWarning: Update your `Conv2D` call to the Keras 2 API: `Conv2D(512, (3, 3), activation=\"relu\")`\n/home/carni7vore/anaconda3/envs/Pyhton3_7/lib/python3.6/site-packages/ipykernel_launcher.py:26: UserWarning: Update your `Conv2D` call to the Keras 2 API: `Conv2D(512, (3, 3), activation=\"relu\")`\n/home/carni7vore/anaconda3/envs/Pyhton3_7/lib/python3.6/site-packages/ipykernel_launcher.py:28: UserWarning: Update your `Conv2D` call to the Keras 2 API: `Conv2D(512, (3, 3), activation=\"relu\")`\n/home/carni7vore/anaconda3/envs/Pyhton3_7/lib/python3.6/site-packages/ipykernel_launcher.py:32: UserWarning: Update your `Conv2D` call to the Keras 2 API: `Conv2D(512, (3, 3), activation=\"relu\")`\n/home/carni7vore/anaconda3/envs/Pyhton3_7/lib/python3.6/site-packages/ipykernel_launcher.py:34: UserWarning: Update your `Conv2D` call to the Keras 2 API: `Conv2D(512, (3, 3), activation=\"relu\")`\n"
     ]
    },
    {
     "name": "stderr",
     "output_type": "stream",
     "text": [
      "/home/carni7vore/anaconda3/envs/Pyhton3_7/lib/python3.6/site-packages/ipykernel_launcher.py:36: UserWarning: Update your `Conv2D` call to the Keras 2 API: `Conv2D(512, (3, 3), activation=\"relu\")`\n"
     ]
    }
   ],
   "source": [
    "image_model= vgg_16()\n",
    "\n",
    "image_model.compile(loss='categorical_crossentropy', optimizer='rmsprop')"
   ]
  },
  {
   "cell_type": "code",
   "execution_count": 9,
   "metadata": {},
   "outputs": [],
   "source": [
    "train_ptr=0"
   ]
  },
  {
   "cell_type": "code",
   "execution_count": 10,
   "metadata": {},
   "outputs": [
    {
     "name": "stdout",
     "output_type": "stream",
     "text": [
      "62328\n"
     ]
    },
    {
     "name": "stdout",
     "output_type": "stream",
     "text": [
      "finished\n7952\n"
     ]
    }
   ],
   "source": [
    "\n",
    "ori_images=[]\n",
    "age=[]\n",
    "path=[]\n",
    "r=0\n",
    "# print(data_path[0,0])\n",
    "[h,w]= data_path.shape\n",
    "print(w)\n",
    "list1= range(train_ptr,train_ptr+10000)\n",
    "for i in list1:\n",
    "    str_1= ''.join(data_path[0,i])\n",
    "    str_1='./wiki_crop/'+str_1\n",
    "    str_1.replace(\" \\ \",\" / \")\n",
    "    \n",
    "    temp_age= data_age[0,i]\n",
    "    try:\n",
    "        data=plt.imread(str_1)   \n",
    "        \n",
    "    except:\n",
    "        print(str_1)\n",
    "        print(i)\n",
    "        continue\n",
    "    img1= cv2.resize(data,(224,224))\n",
    "    try:\n",
    "        img= img1.reshape(224*224*3)\n",
    "    except:\n",
    "        continue\n",
    "    ori_images.append(img1)\n",
    "    age.append(temp_age)\n",
    "print(\"finished\")\n",
    "print(len(ori_images))"
   ]
  },
  {
   "cell_type": "code",
   "execution_count": 12,
   "metadata": {},
   "outputs": [
    {
     "name": "stdout",
     "output_type": "stream",
     "text": [
      "(6000, 224, 224, 3)\n7952\n[2, 3, 6, 4, 5, 3, 7, 2, 4, 2, 2, 2, 3, 3, 1, 7, 5, 4, 3, 3, 2, 6, 2, 4, 3, 6, 2, 2, 4, 4, 2, 3, 7, 3, 5, 5, 4, 0, 5, 5, 3, 4, 3, 5, 5, 5, 5, 4, 3, 4, 2, 4, 0, 0, 6, 0, 0, 7, 5, 2, 3, 0, 0, 2, 3, 4, 4, 0, 4, 2, 6, 3, 9, 2, 3, 0, 2, 4, 6, 2, 3, 3, 5, 2, 3, 3, 2, 2, 2, 2, 6, 6, 5, 7, 5, 5, 2, 2, 7, 1, 3, 2, 2, 3, 0, 4, 0, 0, 2, 0, 2, 5, 2, 2, 2, 3, 6, 4, 0, 3, 2, 2, 7, 4, 3, 4, 3, 2, 5, 4, 4, 6, 7, 0, 0, 0, 1, 2, 2, 2, 5, 8, 5, 3, 3, 2, 3, 4, 3, 6, 3, 0, 2, 3, 5, 7, 2, 4, 2, 3, 0, 4, 2, 5, 2, 2, 6, 2, 2, 2, 2, 4, 2, 3, 2, 7, 3, 3, 4, 1, 3, 6, 3, 3, 2, 2, 3, 9, 2, 3, 2, 1, 4, 2, 2, 4, 3, 2, 1, 3]\n"
     ]
    }
   ],
   "source": [
    "train_set= ori_images[:6000]\n",
    "test_set= ori_images[6000:]\n",
    "train_set=np.asanyarray(train_set)\n",
    "print(train_set.shape)\n",
    "print(len(age))\n",
    "age_train=age[:6000]\n",
    "\n",
    "len1= train_set.shape[0]\n",
    "train_label=[]\n",
    "for i in range(len1):\n",
    "    temp= age_train[i]\n",
    "    if temp<0:\n",
    "        temp=0\n",
    "    elif temp>99:\n",
    "        temp=99\n",
    "    temp= int(temp/10)\n",
    "    train_label.append(temp)\n",
    "    \n",
    "print(train_label[:200])\n",
    "y_train= to_categorical(train_label,10)"
   ]
  },
  {
   "cell_type": "code",
   "execution_count": 13,
   "metadata": {},
   "outputs": [
    {
     "name": "stdout",
     "output_type": "stream",
     "text": [
      "(1952, 224, 224, 3)\n(1952,)\n"
     ]
    }
   ],
   "source": [
    "test_set= np.asarray(ori_images[6000:])\n",
    "len1= test_set.shape[0]\n",
    "test_label=[]\n",
    "for i in range(len1):\n",
    "    temp= age_train[i]\n",
    "    if temp<0:\n",
    "        temp=0\n",
    "    elif temp>99:\n",
    "        temp=99\n",
    "    #temp= int(temp/10)\n",
    "    test_label.append(temp)\n",
    "    \n",
    "#y_test= to_categorical(test_label,10)\n",
    "print(test_set.shape)\n",
    "#print(test_label[:100])\n",
    "test_label=np.asanyarray(test_label)\n",
    "print(test_label.shape)"
   ]
  },
  {
   "cell_type": "code",
   "execution_count": 14,
   "metadata": {},
   "outputs": [
    {
     "name": "stdout",
     "output_type": "stream",
     "text": [
      "Epoch 1/4\n"
     ]
    },
    {
     "name": "stdout",
     "output_type": "stream",
     "text": [
      " - 335s - loss: 12.5090\n"
     ]
    },
    {
     "name": "stdout",
     "output_type": "stream",
     "text": [
      "Epoch 2/4\n"
     ]
    },
    {
     "name": "stdout",
     "output_type": "stream",
     "text": [
      " - 328s - loss: 12.5130\n"
     ]
    },
    {
     "name": "stdout",
     "output_type": "stream",
     "text": [
      "Epoch 3/4\n"
     ]
    }
   ],
   "source": [
    "image_model.fit(train_set, y_train,batch_size=4, epochs=4, verbose=2)"
   ]
  },
  {
   "cell_type": "code",
   "execution_count": null,
   "metadata": {},
   "outputs": [],
   "source": [
    "test_out= image_model.predict(test_set,verbose=0)\n",
    "out= np.argmax(test_out,axis=1)\n",
    "print(out.shape)\n",
    "print(out[300:400])"
   ]
  },
  {
   "cell_type": "code",
   "execution_count": null,
   "metadata": {},
   "outputs": [],
   "source": [
    "diff= out*10 - test_label \n",
    "plt.hist(train_label,bins=100)\n",
    "plt.figure()\n",
    "plt.hist(test_label,bins=100)\n",
    "plt.figure()\n",
    "plt.hist(diff,bins=100)\n",
    "collect_1= [i for i in diff if abs(i)<10]\n",
    "collect_2= [i for i in diff if abs(i)<15]\n",
    "collect_3= [i for i in diff if abs(i)<20]\n",
    "print(len(collect_1)/(len(test_set)))\n",
    "print(len(collect_2)/len(test_set))\n",
    "print(len(collect_3)/len(test_set))"
   ]
  }
 ],
 "metadata": {
  "kernelspec": {
   "display_name": "Python 2",
   "language": "python",
   "name": "python2"
  },
  "language_info": {
   "codemirror_mode": {
    "name": "ipython",
    "version": 2
   },
   "file_extension": ".py",
   "mimetype": "text/x-python",
   "name": "python",
   "nbconvert_exporter": "python",
   "pygments_lexer": "ipython2",
   "version": "2.7.6"
  }
 },
 "nbformat": 4,
 "nbformat_minor": 0
}
