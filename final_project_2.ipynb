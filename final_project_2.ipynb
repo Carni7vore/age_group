{
 "cells": [
  {
   "cell_type": "code",
   "execution_count": 1,
   "metadata": {
    "collapsed": true
   },
   "outputs": [],
   "source": [
    "%reset"
   ]
  },
  {
   "cell_type": "code",
   "execution_count": 15,
   "metadata": {},
   "outputs": [],
   "source": [
    "import numpy as np\n",
    "import scipy.fftpack as fftpack\n",
    "import scipy.io as sio\n",
    "import matplotlib.pyplot as plt\n",
    "from sklearn.decomposition import PCA, FastICA\n",
    "from sklearn.neighbors import KNeighborsClassifier\n",
    "from sklearn.cluster import KMeans\n",
    "from tempfile import TemporaryFile\n",
    "from sklearn import svm\n",
    "import cv2\n",
    "\n",
    "clf= svm.SVC(kernel='rbf',gamma='scale')"
   ]
  },
  {
   "cell_type": "code",
   "execution_count": 16,
   "metadata": {},
   "outputs": [],
   "source": [
    "age1= sio.loadmat('./age_big.mat')\n",
    "path1=sio.loadmat('./path_big.mat')\n",
    "data_age= age1['data_age']\n",
    "data_path= path1['data_path']"
   ]
  },
  {
   "cell_type": "code",
   "execution_count": 12,
   "metadata": {},
   "outputs": [
    {
     "name": "stdout",
     "output_type": "stream",
     "text": [
      "459463\n"
     ]
    },
    {
     "name": "stdout",
     "output_type": "stream",
     "text": [
      "459463\n"
     ]
    },
    {
     "data": {
      "image/png": "[encoded data removed]",
      "text/plain": [
       "<Figure size 432x288 with 1 Axes>"
      ]
     },
     "metadata": {},
     "output_type": "display_data"
    }
   ],
   "source": [
    "temp_age= data_age[0,:]\n",
    "print(len(temp_age))\n",
    "hist1= plt.hist(temp_age,bins=100)\n",
    "new_age=[]\n",
    "\n",
    "for i in temp_age:\n",
    "    if i<20:\n",
    "        new_age.append(10)\n",
    "    elif i<30:\n",
    "        new_age.append(25)\n",
    "    elif i<40:\n",
    "        new_age.append(35)\n",
    "    elif i<50:\n",
    "        new_age.append(45)\n",
    "    elif i<70:\n",
    "        new_age.append(55)\n",
    "    else:\n",
    "        new_age.append(85)\n",
    "print(len(new_age))\n",
    "        \n",
    "        "
   ]
  },
  {
   "cell_type": "code",
   "execution_count": 7,
   "metadata": {},
   "outputs": [
    {
     "name": "stdout",
     "output_type": "stream",
     "text": [
      "459463\n(256, 256, 3)\n(256, 256, 3)\n(256, 256, 3)\n(256, 256, 3)\n(256, 256, 3)\n(256, 256, 3)\n(256, 256, 3)\n(256, 256, 3)\n(256, 256, 3)\n(256, 256, 3)\nfinished\n10\n"
     ]
    },
    {
     "data": {
      "image/png": "[encoded data removed]",
      "text/plain": [
       "<Figure size 432x288 with 1 Axes>"
      ]
     },
     "metadata": {},
     "output_type": "display_data"
    }
   ],
   "source": [
    "images=[]\n",
    "age=[]\n",
    "path=[]\n",
    "r=0\n",
    "# print(data_path[0,0])\n",
    "[h,w]= data_path.shape\n",
    "print(w)\n",
    "for i in range(10):\n",
    "    str_1= ''.join(data_path[0,i])\n",
    "    str_1='./imdb_crop/'+str_1\n",
    "    str_1.replace(\" \\ \",\" / \")\n",
    "    \n",
    "    temp_age= data_age[0,i]\n",
    "    # temp_age= new_age[i]\n",
    "    try:\n",
    "        data=plt.imread(str_1)\n",
    "        # plt.imshow(data)\n",
    "        # age.append(temp_age)\n",
    "        # path.append(str_1)\n",
    "        \n",
    "    except:\n",
    "        print(str_1)\n",
    "        print(i)\n",
    "        continue\n",
    "    img1= cv2.resize(data,(256,256))\n",
    "    try:\n",
    "        img= img1.reshape(256*256*3)\n",
    "    except:\n",
    "        continue\n",
    "    images.append(img1)\n",
    "    print(img1.shape)\n",
    "    age.append(temp_age)\n",
    "print(\"finished\")\n",
    "print(len(images))\n",
    "hista=plt.hist(age,bins=100)\n",
    "data_age=None\n",
    "data_path=None\n",
    "new_age=None\n",
    "\n"
   ]
  },
  {
   "cell_type": "code",
   "execution_count": 14,
   "metadata": {},
   "outputs": [
    {
     "name": "stdout",
     "output_type": "stream",
     "text": [
      "(3551, 256, 256, 3)\n"
     ]
    },
    {
     "name": "stdout",
     "output_type": "stream",
     "text": [
      "(10653, 256, 256)\n(10653, 256, 256)\n"
     ]
    }
   ],
   "source": [
    "input_img= np.array(images)\n",
    "print(input_img.shape)\n",
    "in_r=input_img[:,:,:,0].reshape(-1,256,256)\n",
    "in_g=input_img[:,:,:,1].reshape(-1,256,256)\n",
    "in_b=input_img[:,:,:,2].reshape(-1,256,256)\n",
    "# input_imgs=[in_r,in_g,in_b]\n",
    "input_img= np.concatenate((in_r,in_g,in_b),axis=0)\n",
    "# input_img=input_img.reshape(-1,256,256)\n",
    "fft_image= fftpack.dct(input_img)\n",
    "print(input_img.shape)\n",
    "print(fft_image.shape)\n"
   ]
  },
  {
   "cell_type": "code",
   "execution_count": 20,
   "metadata": {},
   "outputs": [
    {
     "name": "stdout",
     "output_type": "stream",
     "text": [
      "(256, 18)\n"
     ]
    }
   ],
   "source": [
    "len1=1\n",
    "len0= len(images)\n",
    "train_image=[]\n",
    "test_image=[]\n",
    "\n",
    "for i in range(len1):\n",
    "    temp=(fft_image[i, :, 0:6].reshape(256,6),fft_image[i + len0,:,0:6].reshape(256,6),fft_image[i + 2 * len0,:,0:6].reshape(256,6))\n",
    "    \n",
    "    temp=np.concatenate(temp,axis=1)\n",
    "    temp1=np.array(temp)\n",
    "    print(temp1.shape)\n",
    "    train_image.append(temp)\n",
    "    \n",
    "#for i in range(len1,len0):\n",
    "\n",
    "#    temp=(fft_image[i, :, 0:6].reshape(256,6),fft_image[i + len0,:,0:6].reshape(256,6),fft_image[i + 2 * len0,:,0:6].reshape(256,6))\n",
    "    \n",
    "#    temp=np.concatenate(temp,axis=1)\n",
    "#    test_image.append(temp)\n",
    "#train_image=np.array(train_image)\n",
    "#test_image=np.array(test_image)\n",
    "#train_image= train_image.reshape(-1,256*18)\n",
    "#test_image=test_image.reshape(-1,256*18)\n",
    "#print(train_image.shape)\n"
   ]
  },
  {
   "cell_type": "code",
   "execution_count": 16,
   "metadata": {},
   "outputs": [
    {
     "name": "stdout",
     "output_type": "stream",
     "text": [
      "(2000, 40)\n"
     ]
    }
   ],
   "source": [
    "ica40= FastICA(n_components=40,max_iter=600)\n",
    "train_out= ica40.fit_transform(train_image)\n",
    "print(train_out.shape)\n",
    "\n"
   ]
  },
  {
   "cell_type": "code",
   "execution_count": 17,
   "metadata": {},
   "outputs": [
    {
     "name": "stdout",
     "output_type": "stream",
     "text": [
      "(1551, 40)\n"
     ]
    }
   ],
   "source": [
    "test_out=ica40.transform(test_image)\n",
    "print(test_out.shape)\n",
    "\n"
   ]
  },
  {
   "cell_type": "code",
   "execution_count": 18,
   "metadata": {},
   "outputs": [
    {
     "name": "stdout",
     "output_type": "stream",
     "text": [
      "2000\n"
     ]
    }
   ],
   "source": [
    "len2= train_image.shape[0]\n",
    "# lables= age\n",
    "# lables.extend(age)\n",
    "# lables.extend(age)\n",
    "\n",
    "age_train=age[:len2]\n",
    "age_test= age[len2:]\n",
    "print(len(age_train))\n"
   ]
  },
  {
   "cell_type": "code",
   "execution_count": 19,
   "metadata": {},
   "outputs": [
    {
     "name": "stderr",
     "output_type": "stream",
     "text": [
      "/home/carni7vore/anaconda3/envs/Pyhton3_7/lib/python3.6/site-packages/sklearn/svm/base.py:196: FutureWarning: The default value of gamma will change from 'auto' to 'scale' in version 0.22 to account better for unscaled features. Set gamma explicitly to 'auto' or 'scale' to avoid this warning.\n  \"avoid this warning.\", FutureWarning)\n"
     ]
    }
   ],
   "source": [
    "#clf= svm.SVC(kernel='rbf')\n",
    "clf.fit(train_out,age_train)\n",
    "z= clf.predict(test_out)\n"
   ]
  },
  {
   "cell_type": "code",
   "execution_count": 20,
   "metadata": {},
   "outputs": [
    {
     "name": "stdout",
     "output_type": "stream",
     "text": [
      "0.2695035460992908\n0.43133462282398455\n0.5776918117343649\n"
     ]
    },
    {
     "data": {
      "image/png": "[encoded data removed]",
      "text/plain": [
       "<Figure size 432x288 with 1 Axes>"
      ]
     },
     "metadata": {},
     "output_type": "display_data"
    }
   ],
   "source": [
    "y_test= np.asanyarray(age_test)\n",
    "count=0\n",
    "diff=[]\n",
    "for i in range(len(z)):\n",
    "    temp= int(z[i])- int(y_test[i])\n",
    "    diff.append(temp)\n",
    "plt.hist(diff,bins=100)\n",
    "collect_1= [i for i in diff if abs(i)<10]\n",
    "collect_2= [i for i in diff if abs(i)<15]\n",
    "collect_3= [i for i in diff if abs(i)<20]\n",
    "print(len(collect_1)/len(test_image))\n",
    "print(len(collect_2)/len(test_image))\n",
    "print(len(collect_3)/len(test_image))"
   ]
  },
  {
   "cell_type": "code",
   "execution_count": 30,
   "metadata": {
    "collapsed": true
   },
   "outputs": [
    {
     "name": "stdout",
     "output_type": "stream",
     "text": [
      "finished 0\n"
     ]
    },
    {
     "name": "stdout",
     "output_type": "stream",
     "text": [
      "0.32269760696156635\n0.5467730239303843\n0.6700507614213198\n0.9093546047860769\n"
     ]
    },
    {
     "name": "stdout",
     "output_type": "stream",
     "text": [
      "finished 1\n"
     ]
    },
    {
     "name": "stdout",
     "output_type": "stream",
     "text": [
      "0.13381995133819952\n0.2635847526358475\n0.42173560421735606\n0.5150040551500406\n"
     ]
    },
    {
     "name": "stdout",
     "output_type": "stream",
     "text": [
      "finished 2\n"
     ]
    },
    {
     "name": "stdout",
     "output_type": "stream",
     "text": [
      "0.4061302681992337\n0.7003831417624521\n0.8436781609195402\n0.9287356321839081\n"
     ]
    },
    {
     "name": "stdout",
     "output_type": "stream",
     "text": [
      "finished 3\n"
     ]
    },
    {
     "name": "stdout",
     "output_type": "stream",
     "text": [
      "0.2919254658385093\n0.547360248447205\n0.8913043478260869\n0.9386645962732919\n"
     ]
    },
    {
     "name": "stdout",
     "output_type": "stream",
     "text": [
      "finished 4\n"
     ]
    },
    {
     "name": "stdout",
     "output_type": "stream",
     "text": [
      "0.2944649446494465\n0.5011070110701107\n0.640590405904059\n0.7933579335793358\n"
     ]
    },
    {
     "name": "stdout",
     "output_type": "stream",
     "text": [
      "finished 5\n"
     ]
    },
    {
     "name": "stdout",
     "output_type": "stream",
     "text": [
      "0.005279034690799397\n0.010558069381598794\n0.01885369532428356\n0.05052790346907994\n"
     ]
    },
    {
     "name": "stdout",
     "output_type": "stream",
     "text": [
      "finished 6\n"
     ]
    },
    {
     "name": "stdout",
     "output_type": "stream",
     "text": [
      "0.2175543885971493\n0.3360840210052513\n0.6294073518379595\n0.722430607651913\n"
     ]
    },
    {
     "name": "stdout",
     "output_type": "stream",
     "text": [
      "finished 7\n"
     ]
    },
    {
     "name": "stdout",
     "output_type": "stream",
     "text": [
      "0.2247191011235955\n0.40749063670411984\n0.5970037453183521\n0.6883895131086142\n"
     ]
    },
    {
     "name": "stdout",
     "output_type": "stream",
     "text": [
      "finished 8\n"
     ]
    },
    {
     "name": "stdout",
     "output_type": "stream",
     "text": [
      "0.17429022082018927\n0.3359621451104101\n0.6829652996845426\n0.8541009463722398\n"
     ]
    },
    {
     "name": "stdout",
     "output_type": "stream",
     "text": [
      "finished 9\n"
     ]
    },
    {
     "name": "stdout",
     "output_type": "stream",
     "text": [
      "0.21816770186335405\n0.4782608695652174\n0.5822981366459627\n0.7057453416149069\n"
     ]
    },
    {
     "name": "stdout",
     "output_type": "stream",
     "text": [
      "finished 10\n"
     ]
    },
    {
     "name": "stdout",
     "output_type": "stream",
     "text": [
      "0.4483007953723789\n0.7563268257411424\n0.8994938539407086\n0.9486623282718727\n"
     ]
    },
    {
     "name": "stdout",
     "output_type": "stream",
     "text": [
      "finished 11\n"
     ]
    },
    {
     "name": "stdout",
     "output_type": "stream",
     "text": [
      "0.22855029585798817\n0.4933431952662722\n0.6841715976331361\n0.7418639053254438\n"
     ]
    },
    {
     "name": "stdout",
     "output_type": "stream",
     "text": [
      "finished 12\n"
     ]
    },
    {
     "name": "stdout",
     "output_type": "stream",
     "text": [
      "0.12841328413284134\n0.2767527675276753\n0.529889298892989\n0.6863468634686347\n"
     ]
    },
    {
     "name": "stdout",
     "output_type": "stream",
     "text": [
      "finished 13\n"
     ]
    },
    {
     "name": "stdout",
     "output_type": "stream",
     "text": [
      "0.17911585365853658\n0.28810975609756095\n0.4763719512195122\n0.635670731707317\n"
     ]
    },
    {
     "name": "stdout",
     "output_type": "stream",
     "text": [
      "finished 14\n"
     ]
    },
    {
     "name": "stdout",
     "output_type": "stream",
     "text": [
      "0.2754777070063694\n0.5461783439490446\n0.6982484076433121\n0.8160828025477707\n"
     ]
    },
    {
     "name": "stdout",
     "output_type": "stream",
     "text": [
      "finished 15\n"
     ]
    },
    {
     "name": "stdout",
     "output_type": "stream",
     "text": [
      "0.0\n0.0\n0.0\n0.005529225908372828\n"
     ]
    },
    {
     "name": "stdout",
     "output_type": "stream",
     "text": [
      "finished 16\n"
     ]
    },
    {
     "name": "stdout",
     "output_type": "stream",
     "text": [
      "0.21547799696509864\n0.44613050075872535\n0.644916540212443\n0.7534142640364189\n"
     ]
    },
    {
     "name": "stdout",
     "output_type": "stream",
     "text": [
      "finished 17\n"
     ]
    },
    {
     "name": "stdout",
     "output_type": "stream",
     "text": [
      "0.2054176072234763\n0.46952595936794583\n0.7366440933032355\n0.8171557562076749\n"
     ]
    },
    {
     "name": "stdout",
     "output_type": "stream",
     "text": [
      "finished 18\n"
     ]
    },
    {
     "name": "stdout",
     "output_type": "stream",
     "text": [
      "0.4348148148148148\n0.6688888888888889\n0.797037037037037\n0.8703703703703703\n"
     ]
    },
    {
     "name": "stdout",
     "output_type": "stream",
     "text": [
      "finished 19\n"
     ]
    },
    {
     "name": "stdout",
     "output_type": "stream",
     "text": [
      "0.27651217596229377\n0.43597800471327575\n0.6834249803613511\n0.7635506677140613\n"
     ]
    },
    {
     "name": "stdout",
     "output_type": "stream",
     "text": [
      "finished 20\n"
     ]
    },
    {
     "name": "stdout",
     "output_type": "stream",
     "text": [
      "0.1846743295019157\n0.6528735632183909\n0.8796934865900383\n0.9777777777777777\n"
     ]
    },
    {
     "name": "stdout",
     "output_type": "stream",
     "text": [
      "finished 21\n"
     ]
    },
    {
     "name": "stdout",
     "output_type": "stream",
     "text": [
      "0.21068702290076335\n0.41374045801526715\n0.5564885496183206\n0.6709923664122137\n"
     ]
    },
    {
     "name": "stdout",
     "output_type": "stream",
     "text": [
      "finished 22\n"
     ]
    },
    {
     "name": "stdout",
     "output_type": "stream",
     "text": [
      "0.3407821229050279\n0.5506783719074222\n0.7270550678371908\n0.8347964884277733\n"
     ]
    },
    {
     "name": "stdout",
     "output_type": "stream",
     "text": [
      "finished 23\n"
     ]
    },
    {
     "name": "stdout",
     "output_type": "stream",
     "text": [
      "0.2391952309985097\n0.42995529061102833\n0.669150521609538\n0.8599105812220567\n"
     ]
    },
    {
     "name": "stdout",
     "output_type": "stream",
     "text": [
      "finished 24\n"
     ]
    },
    {
     "name": "stdout",
     "output_type": "stream",
     "text": [
      "0.023203592814371257\n0.04640718562874251\n0.31511976047904194\n0.6654191616766467\n"
     ]
    },
    {
     "name": "stdout",
     "output_type": "stream",
     "text": [
      "finished 25\n"
     ]
    },
    {
     "name": "stdout",
     "output_type": "stream",
     "text": [
      "0.09018987341772151\n0.2879746835443038\n0.41139240506329117\n0.5348101265822784\n"
     ]
    },
    {
     "name": "stdout",
     "output_type": "stream",
     "text": [
      "finished 26\n"
     ]
    },
    {
     "name": "stdout",
     "output_type": "stream",
     "text": [
      "0.3942148760330578\n0.6743801652892562\n0.7942148760330578\n0.9016528925619834\n"
     ]
    },
    {
     "name": "stdout",
     "output_type": "stream",
     "text": [
      "finished 27\n"
     ]
    },
    {
     "name": "stdout",
     "output_type": "stream",
     "text": [
      "0.26578073089701\n0.47674418604651164\n0.7358803986710963\n0.8621262458471761\n"
     ]
    },
    {
     "name": "stdout",
     "output_type": "stream",
     "text": [
      "finished 28\n"
     ]
    },
    {
     "name": "stdout",
     "output_type": "stream",
     "text": [
      "0.14037735849056604\n0.3192452830188679\n0.4528301886792453\n0.6732075471698113\n"
     ]
    },
    {
     "name": "stdout",
     "output_type": "stream",
     "text": [
      "finished 29\n"
     ]
    },
    {
     "name": "stdout",
     "output_type": "stream",
     "text": [
      "0.13311421528348397\n0.23746918652423993\n0.41659819227608874\n0.5291700903861956\n"
     ]
    },
    {
     "name": "stdout",
     "output_type": "stream",
     "text": [
      "finished 30\n"
     ]
    },
    {
     "name": "stdout",
     "output_type": "stream",
     "text": [
      "0.28209069946195237\n0.48424289008455035\n0.7071483474250576\n0.8055342044581092\n"
     ]
    },
    {
     "name": "stdout",
     "output_type": "stream",
     "text": [
      "finished 31\n"
     ]
    },
    {
     "name": "stdout",
     "output_type": "stream",
     "text": [
      "0.31666666666666665\n0.6039682539682539\n0.7293650793650793\n0.8611111111111112\n"
     ]
    },
    {
     "name": "stdout",
     "output_type": "stream",
     "text": [
      "finished 32\n"
     ]
    },
    {
     "name": "stdout",
     "output_type": "stream",
     "text": [
      "0.11659919028340081\n0.2931174089068826\n0.4404858299595142\n0.7117408906882591\n"
     ]
    },
    {
     "name": "stdout",
     "output_type": "stream",
     "text": [
      "finished 33\n"
     ]
    },
    {
     "name": "stdout",
     "output_type": "stream",
     "text": [
      "0.5003921568627451\n0.8227450980392157\n0.9145098039215687\n0.9411764705882353\n"
     ]
    },
    {
     "name": "stdout",
     "output_type": "stream",
     "text": [
      "finished 34\n"
     ]
    },
    {
     "name": "stdout",
     "output_type": "stream",
     "text": [
      "0.19634340222575516\n0.4682034976152623\n0.7980922098569158\n0.9141494435612083\n"
     ]
    },
    {
     "name": "stdout",
     "output_type": "stream",
     "text": [
      "finished 35\n"
     ]
    },
    {
     "name": "stdout",
     "output_type": "stream",
     "text": [
      "0.14606741573033707\n0.4478330658105939\n0.6508828250401284\n0.8579454253611557\n"
     ]
    },
    {
     "name": "stdout",
     "output_type": "stream",
     "text": [
      "finished 36\n"
     ]
    },
    {
     "name": "stdout",
     "output_type": "stream",
     "text": [
      "0.25059101654846333\n0.5003940110323088\n0.6926713947990544\n0.8455476753349094\n"
     ]
    },
    {
     "name": "stdout",
     "output_type": "stream",
     "text": [
      "finished 37\n"
     ]
    },
    {
     "name": "stdout",
     "output_type": "stream",
     "text": [
      "0.36577708006279436\n0.6059654631083202\n0.8673469387755102\n0.9536891679748822\n"
     ]
    },
    {
     "name": "stdout",
     "output_type": "stream",
     "text": [
      "finished 38\n"
     ]
    },
    {
     "name": "stdout",
     "output_type": "stream",
     "text": [
      "0.21739130434782608\n0.3778656126482213\n0.7628458498023716\n0.9217391304347826\n"
     ]
    },
    {
     "name": "stdout",
     "output_type": "stream",
     "text": [
      "finished 39\n"
     ]
    },
    {
     "name": "stdout",
     "output_type": "stream",
     "text": [
      "0.30615384615384617\n0.5192307692307693\n0.6023076923076923\n0.6446153846153846\n"
     ]
    },
    {
     "name": "stdout",
     "output_type": "stream",
     "text": [
      "finished 40\n"
     ]
    },
    {
     "name": "stdout",
     "output_type": "stream",
     "text": [
      "0.24593796159527326\n0.6846381093057607\n0.8212703101920237\n0.9298375184638109\n"
     ]
    },
    {
     "name": "stdout",
     "output_type": "stream",
     "text": [
      "finished 41\n"
     ]
    },
    {
     "name": "stdout",
     "output_type": "stream",
     "text": [
      "0.17049960348929422\n0.47026169706582077\n0.7192704203013481\n0.8778747026169706\n"
     ]
    },
    {
     "name": "stdout",
     "output_type": "stream",
     "text": [
      "finished 42\n"
     ]
    },
    {
     "name": "stdout",
     "output_type": "stream",
     "text": [
      "0.25806451612903225\n0.45314900153609833\n0.6067588325652842\n0.7503840245775729\n"
     ]
    },
    {
     "name": "stdout",
     "output_type": "stream",
     "text": [
      "finished 43\n"
     ]
    },
    {
     "name": "stderr",
     "output_type": "stream",
     "text": [
      "/home/carni7vore/anaconda3/envs/Pyhton3_7/lib/python3.6/site-packages/sklearn/decomposition/fastica_.py:121: ConvergenceWarning: FastICA did not converge. Consider increasing tolerance or the maximum number of iterations.\n  ConvergenceWarning)\n"
     ]
    },
    {
     "name": "stdout",
     "output_type": "stream",
     "text": [
      "0.29977289931869794\n0.5177895533686601\n0.79333838001514\n0.9114307342922029\n"
     ]
    },
    {
     "name": "stdout",
     "output_type": "stream",
     "text": [
      "finished 44\n"
     ]
    },
    {
     "name": "stdout",
     "output_type": "stream",
     "text": [
      "0.1558846453624318\n0.3858144972720187\n0.603273577552611\n0.7420109119251753\n"
     ]
    },
    {
     "name": "stdout",
     "output_type": "stream",
     "text": [
      "finished 45\n"
     ]
    },
    {
     "name": "stdout",
     "output_type": "stream",
     "text": [
      "0.27364341085271315\n0.5875968992248062\n0.8364341085271317\n0.913953488372093\n"
     ]
    },
    {
     "name": "stdout",
     "output_type": "stream",
     "text": [
      "finished 46\n"
     ]
    },
    {
     "name": "stdout",
     "output_type": "stream",
     "text": [
      "0.25972120322817316\n0.6485693323550991\n0.8085106382978723\n0.8796771826852531\n"
     ]
    },
    {
     "name": "stdout",
     "output_type": "stream",
     "text": [
      "finished 47\n"
     ]
    },
    {
     "name": "stdout",
     "output_type": "stream",
     "text": [
      "0.15261958997722094\n0.38648443432042523\n0.8033409263477601\n0.8845861807137434\n"
     ]
    },
    {
     "name": "stdout",
     "output_type": "stream",
     "text": [
      "finished 48\n"
     ]
    },
    {
     "name": "stdout",
     "output_type": "stream",
     "text": [
      "0.3974164133738602\n0.6557750759878419\n0.7659574468085106\n0.8199088145896657\n"
     ]
    },
    {
     "name": "stdout",
     "output_type": "stream",
     "text": [
      "finished 49\n"
     ]
    },
    {
     "name": "stdout",
     "output_type": "stream",
     "text": [
      "0.27099841521394613\n0.46909667194928684\n0.652931854199683\n0.7741679873217115\n"
     ]
    },
    {
     "name": "stderr",
     "output_type": "stream",
     "text": [
      "/home/carni7vore/anaconda3/envs/Pyhton3_7/lib/python3.6/site-packages/sklearn/decomposition/fastica_.py:121: ConvergenceWarning: FastICA did not converge. Consider increasing tolerance or the maximum number of iterations.\n  ConvergenceWarning)\n"
     ]
    }
   ],
   "source": [
    "train_ptr=0\n",
    "train_length=2000\n",
    "\n",
    "for j in range(50):\n",
    "    images=[]\n",
    "    age=[]\n",
    "    path=[]\n",
    "    train_ptr= train_ptr+ train_length\n",
    "    for i in range(train_ptr,train_ptr+train_length):\n",
    "        str_1= ''.join(data_path[0,i])\n",
    "        str_1='./imdb_crop/'+str_1\n",
    "        str_1.replace(\" \\ \",\" / \")\n",
    "        \n",
    "        temp_age= data_age[0,i]\n",
    "        # temp_age= new_age[i]\n",
    "        data=plt.imread(str_1)\n",
    "        \n",
    "        img1= cv2.resize(data,(256,256))\n",
    "        #try:\n",
    "        #    img= img1.reshape(256*256*3)\n",
    "        #except:\n",
    "        #    continue\n",
    "        if img1.shape== (256,256,3):\n",
    "            images.append(img1)\n",
    "            age.append(temp_age)\n",
    "        #print(len(images))    \n",
    "    print(\"finished %d\" % j)\n",
    "    len1=500\n",
    "    \n",
    "    train_image=[]\n",
    "    test_image=[]\n",
    "    input_img= np.array(images)\n",
    "\n",
    "    in_r=input_img[:,:,:,0].reshape(-1,256,256)\n",
    "    in_g=input_img[:,:,:,1].reshape(-1,256,256)\n",
    "    in_b=input_img[:,:,:,2].reshape(-1,256,256)\n",
    "    # input_imgs=[in_r,in_g,in_b]\n",
    "    input_img= np.concatenate((in_r,in_g,in_b),axis=0)\n",
    "    # input_img=input_img.reshape(-1,256,256)\n",
    "    fft_image= fftpack.dct(input_img)\n",
    "    len0= len(images)\n",
    "    #print(input_img.shape)\n",
    "    #print(fft_image.shape)\n",
    "    for i in range(len1):\n",
    "        temp=(fft_image[i, :, 0:6].reshape(256,6),fft_image[i + len0,:,0:6].reshape(256,6),fft_image[i + 2 * len0,:,0:6].reshape(256,6))\n",
    "        \n",
    "        temp=np.concatenate(temp,axis=1)\n",
    "        train_image.append(temp)\n",
    "        \n",
    "    for i in range(len1,len0):\n",
    "        temp=(fft_image[i, :, 0:6].reshape(256,6),fft_image[i + len0,:,0:6].reshape(256,6),fft_image[i + 2 * len0,:,0:6].reshape(256,6))\n",
    "        \n",
    "        temp=np.concatenate(temp,axis=1)\n",
    "        test_image.append(temp)\n",
    "    train_image=np.array(train_image)\n",
    "    test_image=np.array(test_image)\n",
    "    train_image= train_image.reshape(-1,256*18)\n",
    "    test_image=test_image.reshape(-1,256*18)\n",
    "    \n",
    "    ica40= FastICA(n_components=40,max_iter=600)\n",
    "    train_out= ica40.fit_transform(train_image)\n",
    "    test_out=ica40.transform(test_image)\n",
    "    \n",
    "    age_train=age[:len1]\n",
    "    age_test= age[len1:]\n",
    "    \n",
    "    clf.fit(train_out,age_train)\n",
    "    z= clf.predict(test_out)\n",
    "    \n",
    "    y_test= np.asanyarray(age_test)\n",
    "    count=0\n",
    "    diff=[]\n",
    "    for i in range(len(z)):\n",
    "        temp= int(z[i])- int(y_test[i])\n",
    "        diff.append(temp)\n",
    "    # plt.hist(diff,bins=100)\n",
    "    collect_0= [i for i in diff if abs(i)<5]\n",
    "    collect_1= [i for i in diff if abs(i)<10]\n",
    "    collect_2= [i for i in diff if abs(i)<15]\n",
    "    collect_3= [i for i in diff if abs(i)<20]\n",
    "    \n",
    "    print(len(collect_0)/len(test_image))\n",
    "    print(len(collect_1)/len(test_image))\n",
    "    print(len(collect_2)/len(test_image))\n",
    "    print(len(collect_3)/len(test_image))\n",
    "\n"
   ]
  },
  {
   "cell_type": "code",
   "execution_count": 29,
   "metadata": {},
   "outputs": [
    {
     "name": "stdout",
     "output_type": "stream",
     "text": [
      "(3, 256, 256)\n(1, 4608)\npredict age 50\nreal age 42\n"
     ]
    },
    {
     "data": {
      "image/png": "[encoded data removed]",
      "text/plain": [
       "<Figure size 432x288 with 1 Axes>"
      ]
     },
     "metadata": {},
     "output_type": "display_data"
    }
   ],
   "source": [
    "#predict\n",
    "\n",
    "index= 100000\n",
    "path= data_path[0,index]\n",
    "age= data_age[0,index]\n",
    "str_1= ''.join(path)\n",
    "str_1='./imdb_crop/'+str_1\n",
    "str_1.replace(\" \\ \",\" / \")\n",
    "\n",
    "data=plt.imread(str_1)\n",
    "        \n",
    "img1= cv2.resize(data,(256,256))\n",
    "plt.imshow(img1)\n",
    "\n",
    "input_img=np.array(img1)\n",
    "in_r=input_img[:,:,0].reshape(-1,256,256)\n",
    "in_g=input_img[:,:,1].reshape(-1,256,256)\n",
    "in_b=input_img[:,:,2].reshape(-1,256,256)\n",
    "#input_imgs=[in_r,in_g,in_b]\n",
    "input_img= np.concatenate((in_r,in_g,in_b),axis=0)\n",
    "fft_image= fftpack.dct(input_img)\n",
    "print(fft_image.shape)\n",
    "temp=(fft_image[0, :, 0:6].reshape(256,6),fft_image[1,:,0:6].reshape(256,6),fft_image[2,:,0:6].reshape(256,6))\n",
    "        \n",
    "temp=np.concatenate(temp,axis=1)\n",
    "temp1=np.array(temp)\n",
    "temp1=temp1.reshape(1,256*18)\n",
    "print(temp1.shape)\n",
    "\n",
    "img_out= ica40.transform(temp1)\n",
    "z= clf.predict(img_out)\n",
    "print(\"predict age %d\" % z)\n",
    "print(\"real age %d\" % age)"
   ]
  },
  {
   "cell_type": "code",
   "execution_count": null,
   "metadata": {},
   "outputs": [],
   "source": []
  }
 ],
 "metadata": {
  "kernelspec": {
   "display_name": "Python 2",
   "language": "python",
   "name": "python2"
  },
  "language_info": {
   "codemirror_mode": {
    "name": "ipython",
    "version": 2
   },
   "file_extension": ".py",
   "mimetype": "text/x-python",
   "name": "python",
   "nbconvert_exporter": "python",
   "pygments_lexer": "ipython2",
   "version": "2.7.6"
  }
 },
 "nbformat": 4,
 "nbformat_minor": 0
}
