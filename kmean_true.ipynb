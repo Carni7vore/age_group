{
 "cells": [
  {
   "cell_type": "markdown",
   "metadata": {},
   "source": [
    "#  Age prediction with k-means \n",
    "\n",
    "**Summary:** A notebook of experiment I ran using a simple kmeans without invloving deep learning\n",
    "1. Apply Hierarchical K Means to handle the lage dataset\n",
    "2. Build dictionary of images\n",
    "3. assign images of training sets, test sets to cluster centers, building new features\n",
    "4. solve regression problem "
   ]
  },
  {
   "cell_type": "markdown",
   "metadata": {},
   "source": [
    "## Load Libraries and Data "
   ]
  },
  {
   "cell_type": "code",
   "execution_count": 10,
   "metadata": {},
   "outputs": [],
   "source": [
    "import numpy as np\n",
    "import scipy.fftpack as fftpack\n",
    "import scipy.io as sio\n",
    "import matplotlib.pyplot as plt\n",
    "from sklearn.decomposition import PCA, FastICA\n",
    "from sklearn.neighbors import KNeighborsClassifier\n",
    "from tempfile import TemporaryFile\n",
    "from sklearn.cluster import KMeans\n",
    "import cv2"
   ]
  },
  {
   "cell_type": "code",
   "execution_count": 2,
   "metadata": {},
   "outputs": [],
   "source": [
    "age1= sio.loadmat('F:/CS598-ML-SIGNAL/Final project/age_group/age_big.mat')\n",
    "path1=sio.loadmat('F:/CS598-ML-SIGNAL/Final project/age_group/path_big.mat')\n",
    "data_age= age1['data_age']\n",
    "data_path= path1['data_path']"
   ]
  },
  {
   "cell_type": "code",
   "execution_count": 4,
   "metadata": {},
   "outputs": [
    {
     "name": "stdout",
     "output_type": "stream",
     "text": [
      "459463\n",
      "finished\n",
      "26924\n"
     ]
    }
   ],
   "source": [
    "images=[]\n",
    "age=[]\n",
    "path=[]\n",
    "r=0\n",
    "# print(data_path[0,0])\n",
    "[h,w]= data_path.shape\n",
    "print(w)\n",
    "for i in range(30000):\n",
    "    str_1= ''.join(data_path[0,i])\n",
    "    str_1='F:/CS598-ML-SIGNAL/Final project/imdb_crop/'+str_1\n",
    "    str_1.replace(\" \\ \",\" / \")\n",
    "    \n",
    "    temp_age= data_age[0,i]\n",
    "    try:\n",
    "        data=plt.imread(str_1)\n",
    "        # plt.imshow(data)\n",
    "        # age.append(temp_age)\n",
    "        # path.append(str_1)\n",
    "        \n",
    "    except:\n",
    "        print(str_1)\n",
    "        print(i)\n",
    "        continue\n",
    "    img1= cv2.resize(data,(256,256))\n",
    "    try:\n",
    "        img= img1.reshape(256*256*3)\n",
    "    except:\n",
    "        continue\n",
    "    images.append(img1)\n",
    "    age.append(temp_age)\n",
    "print(\"finished\")\n",
    "print(len(images))"
   ]
  },
  {
   "cell_type": "markdown",
   "metadata": {},
   "source": [
    "## Perform K-Means"
   ]
  },
  {
   "cell_type": "code",
   "execution_count": 9,
   "metadata": {},
   "outputs": [],
   "source": [
    "#define the segmentation of images\n",
    "#in this case, a image of 256*256*3 is divided into 16*16*3 \n",
    "def seg(image):\n",
    "    seg_length=16\n",
    "    width=256\n",
    "    height=256\n",
    "    seg_array=[]\n",
    "    for i in range(0,height-seg_length,10):\n",
    "        \n",
    "        for j in range(0,width-seg_length,10):\n",
    "            seg_array.append(image[j:j+seg_length,i:i+seg_length,:])\n",
    "    return seg_array\n",
    "            "
   ]
  },
  {
   "cell_type": "code",
   "execution_count": null,
   "metadata": {},
   "outputs": [
    {
     "name": "stdout",
     "output_type": "stream",
     "text": [
      "0\n",
      "(115200, 16, 16, 3)\n",
      "(115200, 768)\n",
      "1\n",
      "(115200, 16, 16, 3)\n",
      "(115200, 768)\n",
      "2\n",
      "(115200, 16, 16, 3)\n",
      "(115200, 768)\n",
      "3\n",
      "(115200, 16, 16, 3)\n",
      "(115200, 768)\n",
      "4\n",
      "(115200, 16, 16, 3)\n",
      "(115200, 768)\n",
      "5\n",
      "(115200, 16, 16, 3)\n",
      "(115200, 768)\n",
      "6\n",
      "(115200, 16, 16, 3)\n",
      "(115200, 768)\n",
      "7\n",
      "(115200, 16, 16, 3)\n",
      "(115200, 768)\n",
      "8\n",
      "(115200, 16, 16, 3)\n",
      "(115200, 768)\n",
      "9\n",
      "(115200, 16, 16, 3)\n",
      "(115200, 768)\n",
      "10\n",
      "(115200, 16, 16, 3)\n",
      "(115200, 768)\n",
      "11\n",
      "(115200, 16, 16, 3)\n",
      "(115200, 768)\n",
      "12\n",
      "(115200, 16, 16, 3)\n",
      "(115200, 768)\n",
      "13\n",
      "(115200, 16, 16, 3)\n",
      "(115200, 768)\n",
      "14\n",
      "(115200, 16, 16, 3)\n",
      "(115200, 768)\n",
      "15\n",
      "(115200, 16, 16, 3)\n",
      "(115200, 768)\n",
      "16\n",
      "(115200, 16, 16, 3)\n",
      "(115200, 768)\n",
      "17\n",
      "(115200, 16, 16, 3)\n",
      "(115200, 768)\n",
      "18\n",
      "(115200, 16, 16, 3)\n",
      "(115200, 768)\n",
      "19\n",
      "(115200, 16, 16, 3)\n",
      "(115200, 768)\n",
      "20\n",
      "(115200, 16, 16, 3)\n",
      "(115200, 768)\n",
      "21\n",
      "(115200, 16, 16, 3)\n",
      "(115200, 768)\n",
      "22\n",
      "(115200, 16, 16, 3)\n",
      "(115200, 768)\n",
      "23\n",
      "(115200, 16, 16, 3)\n",
      "(115200, 768)\n",
      "24\n",
      "(115200, 16, 16, 3)\n",
      "(115200, 768)\n",
      "25\n",
      "(115200, 16, 16, 3)\n",
      "(115200, 768)\n",
      "26\n",
      "(115200, 16, 16, 3)\n",
      "(115200, 768)\n",
      "27\n",
      "(115200, 16, 16, 3)\n",
      "(115200, 768)\n",
      "28\n",
      "(115200, 16, 16, 3)\n",
      "(115200, 768)\n",
      "29\n",
      "(115200, 16, 16, 3)\n",
      "(115200, 768)\n",
      "30\n",
      "(115200, 16, 16, 3)\n",
      "(115200, 768)\n",
      "31\n",
      "(115200, 16, 16, 3)\n",
      "(115200, 768)\n",
      "32\n",
      "(115200, 16, 16, 3)\n",
      "(115200, 768)\n",
      "33\n",
      "(115200, 16, 16, 3)\n",
      "(115200, 768)\n",
      "34\n",
      "(115200, 16, 16, 3)\n",
      "(115200, 768)\n",
      "35\n",
      "(115200, 16, 16, 3)\n",
      "(115200, 768)\n",
      "36\n",
      "(115200, 16, 16, 3)\n",
      "(115200, 768)\n",
      "37\n",
      "(115200, 16, 16, 3)\n",
      "(115200, 768)\n",
      "38\n",
      "(115200, 16, 16, 3)\n",
      "(115200, 768)\n",
      "39\n",
      "(115200, 16, 16, 3)\n",
      "(115200, 768)\n",
      "40\n",
      "(115200, 16, 16, 3)\n",
      "(115200, 768)\n",
      "41\n",
      "(115200, 16, 16, 3)\n",
      "(115200, 768)\n",
      "42\n",
      "(115200, 16, 16, 3)\n",
      "(115200, 768)\n",
      "43\n",
      "(115200, 16, 16, 3)\n",
      "(115200, 768)\n",
      "44\n",
      "(115200, 16, 16, 3)\n",
      "(115200, 768)\n",
      "45\n",
      "(115200, 16, 16, 3)\n",
      "(115200, 768)\n",
      "46\n",
      "(115200, 16, 16, 3)\n",
      "(115200, 768)\n",
      "47\n",
      "(115200, 16, 16, 3)\n",
      "(115200, 768)\n",
      "48\n",
      "(115200, 16, 16, 3)\n",
      "(115200, 768)\n",
      "49\n",
      "(115200, 16, 16, 3)\n",
      "(115200, 768)\n",
      "50\n",
      "(115200, 16, 16, 3)\n",
      "(115200, 768)\n",
      "51\n",
      "(115200, 16, 16, 3)\n",
      "(115200, 768)\n",
      "52\n",
      "(115200, 16, 16, 3)\n",
      "(115200, 768)\n",
      "53\n",
      "(115200, 16, 16, 3)\n",
      "(115200, 768)\n",
      "54\n",
      "(115200, 16, 16, 3)\n",
      "(115200, 768)\n",
      "55\n",
      "(115200, 16, 16, 3)\n",
      "(115200, 768)\n"
     ]
    }
   ],
   "source": [
    "#choose the dataset for k-means\n",
    "# perform k-means to find clusters for each batch\n",
    "\n",
    "#choose total number for training\n",
    "num_train=20000\n",
    "itera=int(num_train/200)\n",
    "\n",
    "#for each center in the Center list, it have the dim of (k,768), where the k is the num of centers\n",
    "#in this case, choose k=200. will explore this value in future\n",
    "Center=[]\n",
    "for batch in range(itera):\n",
    "    num_image=200\n",
    "    temp=images[0]\n",
    "    temp1=seg(temp)\n",
    "    train_kmean_data=np.array(temp1)\n",
    "    for i in range(1+batch*200,num_image+batch*200):\n",
    "        temp=images[i]\n",
    "        temp1=seg(temp)\n",
    "        temp1=np.array(temp1)\n",
    "        train_kmean_data=np.concatenate((train_kmean_data,temp1))\n",
    "    print(batch)\n",
    "    print(train_kmean_data.shape)\n",
    "\n",
    "\n",
    "    train_kmean_data=train_kmean_data.reshape(-1,16*16*3)\n",
    "    print(train_kmean_data.shape) \n",
    "    \n",
    "    kmeans = KMeans(n_clusters=200,max_iter=400, random_state=0).fit(train_kmean_data)\n",
    "    temp_center=kmeans.cluster_centers_\n",
    "    Center.append(temp_center)\n",
    "\n",
    "print(len(Center))\n",
    "    "
   ]
  },
  {
   "cell_type": "markdown",
   "metadata": {},
   "source": [
    "## Bulid Dictionary and new feature"
   ]
  },
  {
   "cell_type": "code",
   "execution_count": 172,
   "metadata": {},
   "outputs": [
    {
     "name": "stdout",
     "output_type": "stream",
     "text": [
      "(1200, 768)\n",
      "[[188.83511989 175.73334223 165.28574441 ...  43.9656053   37.57318065\n",
      "   36.53269543]\n",
      " [220.66770037 192.71124549 176.52131784 ... 172.1475354  135.25531597\n",
      "  116.67373294]\n",
      " [ 55.83520022  52.42344421  49.93033728 ... 107.30717477 102.52751225\n",
      "   98.34281999]\n",
      " ...\n",
      " [126.31432698 107.96705191  96.07952518 ... 183.26314962 168.32179446\n",
      "  156.66817962]\n",
      " [182.74903239 136.10425961 110.56922832 ... 197.08760097 149.9579887\n",
      "  123.92280161]\n",
      " [143.34874665 132.73161698 125.80853213 ... 195.04022073 185.41643353\n",
      "  178.83520009]]\n"
     ]
    }
   ],
   "source": [
    "# find the cluster through centers from each batch\n",
    "tocluster=np.concatenate(Center)\n",
    "print(tocluster.shape)\n",
    "kmeans2 = KMeans(n_clusters=200,max_iter=600, random_state=0).fit(tocluster)\n",
    "print(kmeans2.cluster_centers_)\n"
   ]
  },
  {
   "cell_type": "code",
   "execution_count": 174,
   "metadata": {},
   "outputs": [
    {
     "name": "stdout",
     "output_type": "stream",
     "text": [
      "(1200, 200)\n"
     ]
    }
   ],
   "source": [
    "Feature_train=[]\n",
    "for i in range(num_image*itera):\n",
    "    temp=images[i]\n",
    "    temp1=seg(temp)\n",
    "    temp1=np.array(temp1)\n",
    "    temp1=temp1.reshape(-1,16*16*3)\n",
    "#     print(temp1.shape)\n",
    "    feature=np.zeros((1,200))\n",
    "    for j in  range(temp1.shape[0]): \n",
    "        temp2=kmeans2.predict(temp1[j,:].reshape(1,temp1.shape[1]))\n",
    "        feature[:,temp2]+=1\n",
    "    Feature_train.append(feature)\n",
    "feature_new_train=np.concatenate(Feature_train)\n",
    "print(feature_new_train.shape)\n",
    "# Feature_train[200].shape\n",
    "  \n",
    "\n",
    "    \n",
    "    "
   ]
  },
  {
   "cell_type": "code",
   "execution_count": 175,
   "metadata": {},
   "outputs": [
    {
     "name": "stdout",
     "output_type": "stream",
     "text": [
      "(50, 200)\n"
     ]
    }
   ],
   "source": [
    "test_num=  6000\n",
    "Feature_test=[]\n",
    "for i in range(num_image*itera,test_num+num_image*itera):\n",
    "    temp=images[i]\n",
    "    temp1=seg(temp)\n",
    "    temp1=np.array(temp1)\n",
    "    temp1=temp1.reshape(-1,16*16*3)\n",
    "    feature=np.zeros((1,200))\n",
    "#     print(i)\n",
    "    for j in  range(temp1.shape[0]): \n",
    "        temp2=kmeans2.predict(temp1[j,:].reshape(1,temp1.shape[1]))\n",
    "        feature[:,temp2]+=1\n",
    "    Feature_test.append(feature)\n",
    "feature_new_test=np.concatenate(Feature_test)\n",
    "print(feature_new_test.shape)"
   ]
  },
  {
   "cell_type": "markdown",
   "metadata": {},
   "source": [
    "## Build Model and Predict on testsets "
   ]
  },
  {
   "cell_type": "code",
   "execution_count": null,
   "metadata": {},
   "outputs": [],
   "source": [
    "def distance(true,pred):\n",
    "    dis=[]\n",
    "    for i in (len(true)):\n",
    "        temp=true[i]-pred[i]\n",
    "        dis.append[temp]\n",
    "    return np.array(dis)"
   ]
  },
  {
   "cell_type": "code",
   "execution_count": 184,
   "metadata": {},
   "outputs": [],
   "source": [
    "# use SVM to solve it\n",
    "from sklearn import svm\n",
    "\n",
    "train_labels=(age[0:num_train])\n",
    "test_labels=age[num_train+1:num_train+test_num]\n",
    "clf = svm.SVR(max_iter=10000)\n",
    "clf.fit(feature_new_train, train_labels)\n",
    "a=clf.predict(feature_new_test)\n",
    "b=clf.predict(feature_new_train)\n",
    "\n",
    "\n"
   ]
  },
  {
   "cell_type": "code",
   "execution_count": null,
   "metadata": {},
   "outputs": [],
   "source": [
    "## use KNN to solve it\n",
    "neigh = KNeighborsClassifier(n_neighbors=3)\n",
    "x= feature_new_train\n",
    "y= feature_new_test\n",
    "neigh.fit(x,y)\n",
    "z=neigh.predict(feature_new_test)\n",
    "\n",
    "diff=distance(test_labels,z)\n",
    "plt.hist(diff,bins=100)"
   ]
  },
  {
   "cell_type": "code",
   "execution_count": null,
   "metadata": {},
   "outputs": [],
   "source": []
  },
  {
   "cell_type": "code",
   "execution_count": null,
   "metadata": {},
   "outputs": [],
   "source": []
  }
 ],
 "metadata": {
  "kernelspec": {
   "display_name": "Python 3",
   "language": "python",
   "name": "python3"
  },
  "language_info": {
   "codemirror_mode": {
    "name": "ipython",
    "version": 3
   },
   "file_extension": ".py",
   "mimetype": "text/x-python",
   "name": "python",
   "nbconvert_exporter": "python",
   "pygments_lexer": "ipython3",
   "version": "3.6.5"
  }
 },
 "nbformat": 4,
 "nbformat_minor": 1
}
